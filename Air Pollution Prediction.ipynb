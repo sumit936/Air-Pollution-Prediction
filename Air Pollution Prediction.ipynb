{
 "cells": [
  {
   "cell_type": "markdown",
   "metadata": {},
   "source": [
    "### Importing relevant packages"
   ]
  },
  {
   "cell_type": "code",
   "execution_count": 1,
   "metadata": {},
   "outputs": [],
   "source": [
    "import pandas as pd\n",
    "import numpy as np\n",
    "import matplotlib.pyplot as plt\n",
    "import seaborn as sns\n",
    "from sklearn.linear_model import LinearRegression\n",
    "from sklearn.metrics import mean_squared_error,mean_absolute_error,r2_score\n",
    "from sklearn.model_selection import train_test_split\n",
    "from sklearn.neighbors import KNeighborsRegressor\n",
    "from sklearn import tree\n",
    "from sklearn.svm import SVR\n",
    "import warnings\n",
    "warnings.filterwarnings('ignore')\n",
    "sns.set()"
   ]
  },
  {
   "cell_type": "markdown",
   "metadata": {},
   "source": [
    "### Loading the dataset"
   ]
  },
  {
   "cell_type": "code",
   "execution_count": 2,
   "metadata": {},
   "outputs": [
    {
     "data": {
      "text/html": [
       "<div>\n",
       "<style scoped>\n",
       "    .dataframe tbody tr th:only-of-type {\n",
       "        vertical-align: middle;\n",
       "    }\n",
       "\n",
       "    .dataframe tbody tr th {\n",
       "        vertical-align: top;\n",
       "    }\n",
       "\n",
       "    .dataframe thead th {\n",
       "        text-align: right;\n",
       "    }\n",
       "</style>\n",
       "<table border=\"1\" class=\"dataframe\">\n",
       "  <thead>\n",
       "    <tr style=\"text-align: right;\">\n",
       "      <th></th>\n",
       "      <th>Temperature</th>\n",
       "      <th>Humidity</th>\n",
       "      <th>Wind.Speed..km.h.</th>\n",
       "      <th>Visibility</th>\n",
       "      <th>Pressure</th>\n",
       "      <th>so2</th>\n",
       "      <th>no2</th>\n",
       "      <th>Rainfall</th>\n",
       "      <th>PM10</th>\n",
       "      <th>AQI</th>\n",
       "      <th>PM25</th>\n",
       "    </tr>\n",
       "  </thead>\n",
       "  <tbody>\n",
       "    <tr>\n",
       "      <th>3468</th>\n",
       "      <td>-2.266666</td>\n",
       "      <td>0.67</td>\n",
       "      <td>17.1205</td>\n",
       "      <td>3.1073</td>\n",
       "      <td>1023.19</td>\n",
       "      <td>5.0</td>\n",
       "      <td>19.7</td>\n",
       "      <td>95.5</td>\n",
       "      <td>53</td>\n",
       "      <td>134</td>\n",
       "      <td>48.8</td>\n",
       "    </tr>\n",
       "    <tr>\n",
       "      <th>967</th>\n",
       "      <td>23.838889</td>\n",
       "      <td>0.45</td>\n",
       "      <td>4.9588</td>\n",
       "      <td>9.9820</td>\n",
       "      <td>1017.30</td>\n",
       "      <td>19.1</td>\n",
       "      <td>42.3</td>\n",
       "      <td>81.4</td>\n",
       "      <td>63</td>\n",
       "      <td>155</td>\n",
       "      <td>64.0</td>\n",
       "    </tr>\n",
       "    <tr>\n",
       "      <th>5127</th>\n",
       "      <td>26.644444</td>\n",
       "      <td>0.71</td>\n",
       "      <td>4.8783</td>\n",
       "      <td>8.0500</td>\n",
       "      <td>1005.39</td>\n",
       "      <td>4.7</td>\n",
       "      <td>13.7</td>\n",
       "      <td>58.0</td>\n",
       "      <td>22</td>\n",
       "      <td>67</td>\n",
       "      <td>19.5</td>\n",
       "    </tr>\n",
       "    <tr>\n",
       "      <th>3772</th>\n",
       "      <td>1.138889</td>\n",
       "      <td>0.99</td>\n",
       "      <td>13.4757</td>\n",
       "      <td>15.8263</td>\n",
       "      <td>1018.39</td>\n",
       "      <td>5.1</td>\n",
       "      <td>30.6</td>\n",
       "      <td>84.5</td>\n",
       "      <td>11</td>\n",
       "      <td>55</td>\n",
       "      <td>13.9</td>\n",
       "    </tr>\n",
       "    <tr>\n",
       "      <th>72</th>\n",
       "      <td>12.733333</td>\n",
       "      <td>0.69</td>\n",
       "      <td>20.4470</td>\n",
       "      <td>3.1073</td>\n",
       "      <td>1004.80</td>\n",
       "      <td>6.0</td>\n",
       "      <td>34.1</td>\n",
       "      <td>69.1</td>\n",
       "      <td>73</td>\n",
       "      <td>159</td>\n",
       "      <td>71.1</td>\n",
       "    </tr>\n",
       "    <tr>\n",
       "      <th>2832</th>\n",
       "      <td>3.844444</td>\n",
       "      <td>0.82</td>\n",
       "      <td>19.9962</td>\n",
       "      <td>3.9123</td>\n",
       "      <td>1015.95</td>\n",
       "      <td>5.2</td>\n",
       "      <td>27.2</td>\n",
       "      <td>81.5</td>\n",
       "      <td>20</td>\n",
       "      <td>67</td>\n",
       "      <td>19.7</td>\n",
       "    </tr>\n",
       "    <tr>\n",
       "      <th>1107</th>\n",
       "      <td>17.088889</td>\n",
       "      <td>0.72</td>\n",
       "      <td>3.0590</td>\n",
       "      <td>6.2951</td>\n",
       "      <td>1016.10</td>\n",
       "      <td>5.1</td>\n",
       "      <td>32.1</td>\n",
       "      <td>59.8</td>\n",
       "      <td>36</td>\n",
       "      <td>123</td>\n",
       "      <td>44.4</td>\n",
       "    </tr>\n",
       "    <tr>\n",
       "      <th>4105</th>\n",
       "      <td>16.061111</td>\n",
       "      <td>0.67</td>\n",
       "      <td>3.1878</td>\n",
       "      <td>14.7315</td>\n",
       "      <td>1013.54</td>\n",
       "      <td>14.7</td>\n",
       "      <td>32.0</td>\n",
       "      <td>74.8</td>\n",
       "      <td>15</td>\n",
       "      <td>58</td>\n",
       "      <td>15.3</td>\n",
       "    </tr>\n",
       "    <tr>\n",
       "      <th>2078</th>\n",
       "      <td>0.738889</td>\n",
       "      <td>0.88</td>\n",
       "      <td>10.1591</td>\n",
       "      <td>11.1251</td>\n",
       "      <td>1014.18</td>\n",
       "      <td>2.4</td>\n",
       "      <td>9.0</td>\n",
       "      <td>85.2</td>\n",
       "      <td>9</td>\n",
       "      <td>42</td>\n",
       "      <td>10.1</td>\n",
       "    </tr>\n",
       "    <tr>\n",
       "      <th>6941</th>\n",
       "      <td>9.127778</td>\n",
       "      <td>0.76</td>\n",
       "      <td>8.3881</td>\n",
       "      <td>5.9731</td>\n",
       "      <td>1002.54</td>\n",
       "      <td>5.1</td>\n",
       "      <td>34.0</td>\n",
       "      <td>51.9</td>\n",
       "      <td>15</td>\n",
       "      <td>76</td>\n",
       "      <td>24.1</td>\n",
       "    </tr>\n",
       "  </tbody>\n",
       "</table>\n",
       "</div>"
      ],
      "text/plain": [
       "      Temperature  Humidity  Wind.Speed..km.h.  Visibility  Pressure   so2  \\\n",
       "3468    -2.266666      0.67            17.1205      3.1073   1023.19   5.0   \n",
       "967     23.838889      0.45             4.9588      9.9820   1017.30  19.1   \n",
       "5127    26.644444      0.71             4.8783      8.0500   1005.39   4.7   \n",
       "3772     1.138889      0.99            13.4757     15.8263   1018.39   5.1   \n",
       "72      12.733333      0.69            20.4470      3.1073   1004.80   6.0   \n",
       "2832     3.844444      0.82            19.9962      3.9123   1015.95   5.2   \n",
       "1107    17.088889      0.72             3.0590      6.2951   1016.10   5.1   \n",
       "4105    16.061111      0.67             3.1878     14.7315   1013.54  14.7   \n",
       "2078     0.738889      0.88            10.1591     11.1251   1014.18   2.4   \n",
       "6941     9.127778      0.76             8.3881      5.9731   1002.54   5.1   \n",
       "\n",
       "       no2  Rainfall  PM10  AQI  PM25  \n",
       "3468  19.7      95.5    53  134  48.8  \n",
       "967   42.3      81.4    63  155  64.0  \n",
       "5127  13.7      58.0    22   67  19.5  \n",
       "3772  30.6      84.5    11   55  13.9  \n",
       "72    34.1      69.1    73  159  71.1  \n",
       "2832  27.2      81.5    20   67  19.7  \n",
       "1107  32.1      59.8    36  123  44.4  \n",
       "4105  32.0      74.8    15   58  15.3  \n",
       "2078   9.0      85.2     9   42  10.1  \n",
       "6941  34.0      51.9    15   76  24.1  "
      ]
     },
     "execution_count": 2,
     "metadata": {},
     "output_type": "execute_result"
    }
   ],
   "source": [
    "data = pd.read_csv(\"orginal.csv\")\n",
    "data.sample(10)"
   ]
  },
  {
   "cell_type": "code",
   "execution_count": 3,
   "metadata": {},
   "outputs": [
    {
     "data": {
      "text/plain": [
       "(7288, 11)"
      ]
     },
     "execution_count": 3,
     "metadata": {},
     "output_type": "execute_result"
    }
   ],
   "source": [
    "data.shape"
   ]
  },
  {
   "cell_type": "markdown",
   "metadata": {},
   "source": [
    "### Preprocessing of data"
   ]
  },
  {
   "cell_type": "markdown",
   "metadata": {},
   "source": [
    "#### 1.Checking for the null values"
   ]
  },
  {
   "cell_type": "code",
   "execution_count": 4,
   "metadata": {
    "scrolled": true
   },
   "outputs": [
    {
     "data": {
      "text/plain": [
       "Temperature          0\n",
       "Humidity             0\n",
       "Wind.Speed..km.h.    0\n",
       "Visibility           0\n",
       "Pressure             0\n",
       "so2                  0\n",
       "no2                  0\n",
       "Rainfall             0\n",
       "PM10                 0\n",
       "AQI                  0\n",
       "PM25                 0\n",
       "dtype: int64"
      ]
     },
     "execution_count": 4,
     "metadata": {},
     "output_type": "execute_result"
    }
   ],
   "source": [
    "data.isnull().sum()"
   ]
  },
  {
   "cell_type": "markdown",
   "metadata": {},
   "source": [
    "#### 2.Checking for the correlation"
   ]
  },
  {
   "cell_type": "code",
   "execution_count": 5,
   "metadata": {},
   "outputs": [
    {
     "data": {
      "text/html": [
       "<div>\n",
       "<style scoped>\n",
       "    .dataframe tbody tr th:only-of-type {\n",
       "        vertical-align: middle;\n",
       "    }\n",
       "\n",
       "    .dataframe tbody tr th {\n",
       "        vertical-align: top;\n",
       "    }\n",
       "\n",
       "    .dataframe thead th {\n",
       "        text-align: right;\n",
       "    }\n",
       "</style>\n",
       "<table border=\"1\" class=\"dataframe\">\n",
       "  <thead>\n",
       "    <tr style=\"text-align: right;\">\n",
       "      <th></th>\n",
       "      <th>Temperature</th>\n",
       "      <th>Humidity</th>\n",
       "      <th>Wind.Speed..km.h.</th>\n",
       "      <th>Visibility</th>\n",
       "      <th>Pressure</th>\n",
       "      <th>so2</th>\n",
       "      <th>no2</th>\n",
       "      <th>PM10</th>\n",
       "      <th>PM25</th>\n",
       "    </tr>\n",
       "  </thead>\n",
       "  <tbody>\n",
       "    <tr>\n",
       "      <th>Temperature</th>\n",
       "      <td>1.000000</td>\n",
       "      <td>-0.640853</td>\n",
       "      <td>-0.007853</td>\n",
       "      <td>0.108522</td>\n",
       "      <td>-0.008497</td>\n",
       "      <td>0.093858</td>\n",
       "      <td>0.072414</td>\n",
       "      <td>0.018393</td>\n",
       "      <td>0.122030</td>\n",
       "    </tr>\n",
       "    <tr>\n",
       "      <th>Humidity</th>\n",
       "      <td>-0.640853</td>\n",
       "      <td>1.000000</td>\n",
       "      <td>-0.041377</td>\n",
       "      <td>0.057076</td>\n",
       "      <td>0.004141</td>\n",
       "      <td>-0.091301</td>\n",
       "      <td>-0.021266</td>\n",
       "      <td>-0.047126</td>\n",
       "      <td>-0.119834</td>\n",
       "    </tr>\n",
       "    <tr>\n",
       "      <th>Wind.Speed..km.h.</th>\n",
       "      <td>-0.007853</td>\n",
       "      <td>-0.041377</td>\n",
       "      <td>1.000000</td>\n",
       "      <td>0.107416</td>\n",
       "      <td>-0.058970</td>\n",
       "      <td>-0.079710</td>\n",
       "      <td>-0.072865</td>\n",
       "      <td>-0.003909</td>\n",
       "      <td>-0.015770</td>\n",
       "    </tr>\n",
       "    <tr>\n",
       "      <th>Visibility</th>\n",
       "      <td>0.108522</td>\n",
       "      <td>0.057076</td>\n",
       "      <td>0.107416</td>\n",
       "      <td>1.000000</td>\n",
       "      <td>-0.006730</td>\n",
       "      <td>0.035780</td>\n",
       "      <td>-0.051422</td>\n",
       "      <td>0.036917</td>\n",
       "      <td>0.117586</td>\n",
       "    </tr>\n",
       "    <tr>\n",
       "      <th>Pressure</th>\n",
       "      <td>-0.008497</td>\n",
       "      <td>0.004141</td>\n",
       "      <td>-0.058970</td>\n",
       "      <td>-0.006730</td>\n",
       "      <td>1.000000</td>\n",
       "      <td>0.049736</td>\n",
       "      <td>0.039073</td>\n",
       "      <td>0.008507</td>\n",
       "      <td>0.008915</td>\n",
       "    </tr>\n",
       "    <tr>\n",
       "      <th>so2</th>\n",
       "      <td>0.093858</td>\n",
       "      <td>-0.091301</td>\n",
       "      <td>-0.079710</td>\n",
       "      <td>0.035780</td>\n",
       "      <td>0.049736</td>\n",
       "      <td>1.000000</td>\n",
       "      <td>0.351815</td>\n",
       "      <td>0.090637</td>\n",
       "      <td>0.226010</td>\n",
       "    </tr>\n",
       "    <tr>\n",
       "      <th>no2</th>\n",
       "      <td>0.072414</td>\n",
       "      <td>-0.021266</td>\n",
       "      <td>-0.072865</td>\n",
       "      <td>-0.051422</td>\n",
       "      <td>0.039073</td>\n",
       "      <td>0.351815</td>\n",
       "      <td>1.000000</td>\n",
       "      <td>0.004923</td>\n",
       "      <td>0.007830</td>\n",
       "    </tr>\n",
       "    <tr>\n",
       "      <th>PM10</th>\n",
       "      <td>0.018393</td>\n",
       "      <td>-0.047126</td>\n",
       "      <td>-0.003909</td>\n",
       "      <td>0.036917</td>\n",
       "      <td>0.008507</td>\n",
       "      <td>0.090637</td>\n",
       "      <td>0.004923</td>\n",
       "      <td>1.000000</td>\n",
       "      <td>0.592303</td>\n",
       "    </tr>\n",
       "    <tr>\n",
       "      <th>PM25</th>\n",
       "      <td>0.122030</td>\n",
       "      <td>-0.119834</td>\n",
       "      <td>-0.015770</td>\n",
       "      <td>0.117586</td>\n",
       "      <td>0.008915</td>\n",
       "      <td>0.226010</td>\n",
       "      <td>0.007830</td>\n",
       "      <td>0.592303</td>\n",
       "      <td>1.000000</td>\n",
       "    </tr>\n",
       "  </tbody>\n",
       "</table>\n",
       "</div>"
      ],
      "text/plain": [
       "                   Temperature  Humidity  Wind.Speed..km.h.  Visibility  \\\n",
       "Temperature           1.000000 -0.640853          -0.007853    0.108522   \n",
       "Humidity             -0.640853  1.000000          -0.041377    0.057076   \n",
       "Wind.Speed..km.h.    -0.007853 -0.041377           1.000000    0.107416   \n",
       "Visibility            0.108522  0.057076           0.107416    1.000000   \n",
       "Pressure             -0.008497  0.004141          -0.058970   -0.006730   \n",
       "so2                   0.093858 -0.091301          -0.079710    0.035780   \n",
       "no2                   0.072414 -0.021266          -0.072865   -0.051422   \n",
       "PM10                  0.018393 -0.047126          -0.003909    0.036917   \n",
       "PM25                  0.122030 -0.119834          -0.015770    0.117586   \n",
       "\n",
       "                   Pressure       so2       no2      PM10      PM25  \n",
       "Temperature       -0.008497  0.093858  0.072414  0.018393  0.122030  \n",
       "Humidity           0.004141 -0.091301 -0.021266 -0.047126 -0.119834  \n",
       "Wind.Speed..km.h. -0.058970 -0.079710 -0.072865 -0.003909 -0.015770  \n",
       "Visibility        -0.006730  0.035780 -0.051422  0.036917  0.117586  \n",
       "Pressure           1.000000  0.049736  0.039073  0.008507  0.008915  \n",
       "so2                0.049736  1.000000  0.351815  0.090637  0.226010  \n",
       "no2                0.039073  0.351815  1.000000  0.004923  0.007830  \n",
       "PM10               0.008507  0.090637  0.004923  1.000000  0.592303  \n",
       "PM25               0.008915  0.226010  0.007830  0.592303  1.000000  "
      ]
     },
     "execution_count": 5,
     "metadata": {},
     "output_type": "execute_result"
    }
   ],
   "source": [
    "Df = data.drop([\"AQI\",'Rainfall'],axis = 1)\n",
    "x_corr = Df.corr()\n",
    "x_corr"
   ]
  },
  {
   "cell_type": "code",
   "execution_count": 6,
   "metadata": {},
   "outputs": [],
   "source": [
    "UPPER = x_corr.where(np.triu(np.ones(x_corr.shape), k=1).astype(np.bool))\n",
    "correlated_features = [column for column in UPPER.columns if any(UPPER[column] >0.75)]\n",
    "x = Df.drop(correlated_features,axis = 1)#independent features"
   ]
  },
  {
   "cell_type": "markdown",
   "metadata": {},
   "source": [
    "#### 3.Checking for the categorical features"
   ]
  },
  {
   "cell_type": "code",
   "execution_count": 7,
   "metadata": {},
   "outputs": [
    {
     "data": {
      "text/plain": [
       "0"
      ]
     },
     "execution_count": 7,
     "metadata": {},
     "output_type": "execute_result"
    }
   ],
   "source": [
    "sum(Df.select_dtypes(include=['object']).columns.values)"
   ]
  },
  {
   "cell_type": "code",
   "execution_count": 8,
   "metadata": {},
   "outputs": [],
   "source": [
    "y = data[\"AQI\"]#target feature"
   ]
  },
  {
   "cell_type": "markdown",
   "metadata": {},
   "source": [
    "#### 4.Plotting the scatter plots"
   ]
  },
  {
   "cell_type": "code",
   "execution_count": 9,
   "metadata": {},
   "outputs": [
    {
     "data": {
      "text/plain": [
       "Text(0, 0.5, 'AQI')"
      ]
     },
     "execution_count": 9,
     "metadata": {},
     "output_type": "execute_result"
    },
    {
     "data": {
      "image/png": "[encoded data removed]",
      "text/plain": [
       "<Figure size 432x288 with 1 Axes>"
      ]
     },
     "metadata": {},
     "output_type": "display_data"
    }
   ],
   "source": [
    "plt.scatter(x['so2'],y)\n",
    "plt.xlabel('So2')\n",
    "plt.ylabel('AQI')"
   ]
  },
  {
   "cell_type": "code",
   "execution_count": 10,
   "metadata": {},
   "outputs": [
    {
     "data": {
      "text/plain": [
       "Text(0, 0.5, 'AQI')"
      ]
     },
     "execution_count": 10,
     "metadata": {},
     "output_type": "execute_result"
    },
    {
     "data": {
      "image/png": "[encoded data removed]",
      "text/plain": [
       "<Figure size 432x288 with 1 Axes>"
      ]
     },
     "metadata": {},
     "output_type": "display_data"
    }
   ],
   "source": [
    "plt.scatter(x['no2'],y)\n",
    "plt.xlabel('No2')\n",
    "plt.ylabel('AQI')"
   ]
  },
  {
   "cell_type": "code",
   "execution_count": 11,
   "metadata": {},
   "outputs": [
    {
     "data": {
      "text/plain": [
       "Text(0, 0.5, 'AQI')"
      ]
     },
     "execution_count": 11,
     "metadata": {},
     "output_type": "execute_result"
    },
    {
     "data": {
      "image/png": "[encoded data removed]",
      "text/plain": [
       "<Figure size 432x288 with 1 Axes>"
      ]
     },
     "metadata": {},
     "output_type": "display_data"
    }
   ],
   "source": [
    "plt.scatter(x['PM10'],y)\n",
    "plt.xlabel('PM 10')\n",
    "plt.ylabel('AQI')"
   ]
  },
  {
   "cell_type": "code",
   "execution_count": 12,
   "metadata": {},
   "outputs": [
    {
     "data": {
      "text/plain": [
       "Text(0, 0.5, 'AQI')"
      ]
     },
     "execution_count": 12,
     "metadata": {},
     "output_type": "execute_result"
    },
    {
     "data": {
      "image/png": "[encoded data removed]",
      "text/plain": [
       "<Figure size 432x288 with 1 Axes>"
      ]
     },
     "metadata": {},
     "output_type": "display_data"
    }
   ],
   "source": [
    "plt.scatter(x['PM25'],y)\n",
    "plt.xlabel('PM 2.5')\n",
    "plt.ylabel('AQI')"
   ]
  },
  {
   "cell_type": "markdown",
   "metadata": {},
   "source": [
    "#### 5.Standardizing the features"
   ]
  },
  {
   "cell_type": "code",
   "execution_count": 13,
   "metadata": {},
   "outputs": [
    {
     "data": {
      "text/plain": [
       "array([[ 0.21390466,  0.92949046,  0.57663776, ..., -0.79589057,\n",
       "         0.91842747,  2.36383617],\n",
       "       [ 0.32328842,  0.92949046,  0.59839614, ..., -1.56482906,\n",
       "         1.51172814,  3.02354567],\n",
       "       [ 0.41543181,  0.71216205, -0.9537013 , ...,  0.02480339,\n",
       "         1.05403905,  2.81034687],\n",
       "       ...,\n",
       "       [-0.87161026,  0.54916575,  0.12454708, ..., -0.97333792,\n",
       "         0.29122391,  0.81915049],\n",
       "       [-0.91976289,  0.65782995, -0.27677407, ..., -0.95855064,\n",
       "         0.25732102,  0.78294692],\n",
       "       [-0.95840389,  0.76649416,  0.16806383, ..., -0.97333792,\n",
       "         0.18951523,  0.71053978]])"
      ]
     },
     "execution_count": 13,
     "metadata": {},
     "output_type": "execute_result"
    }
   ],
   "source": [
    "from sklearn.preprocessing import StandardScaler\n",
    "scaler = StandardScaler()\n",
    "scaler.fit(x)\n",
    "df = scaler.transform(x)\n",
    "df = pd.DataFrame(df,columns = Df.columns)\n",
    "x = df.iloc[:,:]\n",
    "x.values"
   ]
  },
  {
   "cell_type": "markdown",
   "metadata": {},
   "source": [
    "### Splitting the dataset into training and testing "
   ]
  },
  {
   "cell_type": "code",
   "execution_count": 14,
   "metadata": {},
   "outputs": [],
   "source": [
    "x_train,x_test,y_train,y_test = train_test_split(x,y,test_size = 0.20,random_state = 2)"
   ]
  },
  {
   "cell_type": "markdown",
   "metadata": {},
   "source": [
    "### Algorithms"
   ]
  },
  {
   "cell_type": "markdown",
   "metadata": {},
   "source": [
    "#### 1.Multiple Linear Regression"
   ]
  },
  {
   "cell_type": "code",
   "execution_count": 15,
   "metadata": {},
   "outputs": [
    {
     "data": {
      "text/plain": [
       "LinearRegression()"
      ]
     },
     "execution_count": 15,
     "metadata": {},
     "output_type": "execute_result"
    }
   ],
   "source": [
    "linear_reg = LinearRegression()\n",
    "linear_reg.fit(x_train,y_train)"
   ]
  },
  {
   "cell_type": "code",
   "execution_count": 16,
   "metadata": {},
   "outputs": [
    {
     "data": {
      "text/plain": [
       "array([ 78.50758987, 114.72589108,  50.46659669, ...,  57.41083472,\n",
       "        73.25508042, 118.92940253])"
      ]
     },
     "execution_count": 16,
     "metadata": {},
     "output_type": "execute_result"
    }
   ],
   "source": [
    "linear_reg_pred = linear_reg.predict(x_test)\n",
    "linear_reg_pred"
   ]
  },
  {
   "cell_type": "markdown",
   "metadata": {},
   "source": [
    "#### accuracy and overfitting or underfitting"
   ]
  },
  {
   "cell_type": "code",
   "execution_count": 17,
   "metadata": {
    "scrolled": true
   },
   "outputs": [
    {
     "name": "stdout",
     "output_type": "stream",
     "text": [
      "Accuracy Score on training data:  0.9091700278614888\n",
      "Accuracy Score on testing data:  0.9004564246820818\n"
     ]
    }
   ],
   "source": [
    "print(\"Accuracy Score on training data: \",linear_reg.score(x_train,y_train))\n",
    "print(\"Accuracy Score on testing data: \",linear_reg.score(x_test,y_test))"
   ]
  },
  {
   "cell_type": "code",
   "execution_count": 18,
   "metadata": {},
   "outputs": [
    {
     "name": "stdout",
     "output_type": "stream",
     "text": [
      "Mean squared error: 180.94626313261497\n",
      "Mean absolute error: 8.076691051444552\n",
      "r2 score: 0.9004564246820818\n"
     ]
    }
   ],
   "source": [
    "print(f\"Mean squared error: {mean_squared_error(y_test,linear_reg_pred)}\\nMean absolute error: {mean_absolute_error(y_test,linear_reg_pred)}\\nr2 score: {r2_score(y_test,linear_reg_pred)}\")"
   ]
  },
  {
   "cell_type": "code",
   "execution_count": 19,
   "metadata": {},
   "outputs": [],
   "source": [
    "#creating summary table\n",
    "linear_reg_summary = pd.DataFrame(data = x.columns.values,columns = ['Features'])\n",
    "linear_reg_summary['Cofficient'] = linear_reg.coef_"
   ]
  },
  {
   "cell_type": "markdown",
   "metadata": {},
   "source": [
    "#### Checking for the p-value(should be: p<0.05)"
   ]
  },
  {
   "cell_type": "code",
   "execution_count": 20,
   "metadata": {},
   "outputs": [
    {
     "data": {
      "text/plain": [
       "array([3.97697741e-047, 9.86812087e-035, 7.32563693e-003, 3.25313967e-029,\n",
       "       9.72623428e-001, 2.56827964e-102, 3.40067211e-002, 0.00000000e+000,\n",
       "       0.00000000e+000])"
      ]
     },
     "execution_count": 20,
     "metadata": {},
     "output_type": "execute_result"
    }
   ],
   "source": [
    "from sklearn.feature_selection import f_regression\n",
    "p_value = f_regression(x,y)[1]\n",
    "p_value"
   ]
  },
  {
   "cell_type": "code",
   "execution_count": 21,
   "metadata": {},
   "outputs": [
    {
     "data": {
      "text/html": [
       "<div>\n",
       "<style scoped>\n",
       "    .dataframe tbody tr th:only-of-type {\n",
       "        vertical-align: middle;\n",
       "    }\n",
       "\n",
       "    .dataframe tbody tr th {\n",
       "        vertical-align: top;\n",
       "    }\n",
       "\n",
       "    .dataframe thead th {\n",
       "        text-align: right;\n",
       "    }\n",
       "</style>\n",
       "<table border=\"1\" class=\"dataframe\">\n",
       "  <thead>\n",
       "    <tr style=\"text-align: right;\">\n",
       "      <th></th>\n",
       "      <th>Features</th>\n",
       "      <th>Cofficient</th>\n",
       "      <th>p-value</th>\n",
       "    </tr>\n",
       "  </thead>\n",
       "  <tbody>\n",
       "    <tr>\n",
       "      <th>0</th>\n",
       "      <td>Temperature</td>\n",
       "      <td>1.937906</td>\n",
       "      <td>0.000</td>\n",
       "    </tr>\n",
       "    <tr>\n",
       "      <th>1</th>\n",
       "      <td>Humidity</td>\n",
       "      <td>0.147695</td>\n",
       "      <td>0.000</td>\n",
       "    </tr>\n",
       "    <tr>\n",
       "      <th>2</th>\n",
       "      <td>Wind.Speed..km.h.</td>\n",
       "      <td>-0.629838</td>\n",
       "      <td>0.007</td>\n",
       "    </tr>\n",
       "    <tr>\n",
       "      <th>3</th>\n",
       "      <td>Visibility</td>\n",
       "      <td>0.578356</td>\n",
       "      <td>0.000</td>\n",
       "    </tr>\n",
       "    <tr>\n",
       "      <th>4</th>\n",
       "      <td>Pressure</td>\n",
       "      <td>-0.482726</td>\n",
       "      <td>0.973</td>\n",
       "    </tr>\n",
       "    <tr>\n",
       "      <th>5</th>\n",
       "      <td>so2</td>\n",
       "      <td>1.144300</td>\n",
       "      <td>0.000</td>\n",
       "    </tr>\n",
       "    <tr>\n",
       "      <th>6</th>\n",
       "      <td>no2</td>\n",
       "      <td>0.224959</td>\n",
       "      <td>0.034</td>\n",
       "    </tr>\n",
       "    <tr>\n",
       "      <th>7</th>\n",
       "      <td>PM10</td>\n",
       "      <td>-3.144861</td>\n",
       "      <td>0.000</td>\n",
       "    </tr>\n",
       "    <tr>\n",
       "      <th>8</th>\n",
       "      <td>PM25</td>\n",
       "      <td>41.898905</td>\n",
       "      <td>0.000</td>\n",
       "    </tr>\n",
       "  </tbody>\n",
       "</table>\n",
       "</div>"
      ],
      "text/plain": [
       "            Features  Cofficient  p-value\n",
       "0        Temperature    1.937906    0.000\n",
       "1           Humidity    0.147695    0.000\n",
       "2  Wind.Speed..km.h.   -0.629838    0.007\n",
       "3         Visibility    0.578356    0.000\n",
       "4           Pressure   -0.482726    0.973\n",
       "5                so2    1.144300    0.000\n",
       "6                no2    0.224959    0.034\n",
       "7               PM10   -3.144861    0.000\n",
       "8               PM25   41.898905    0.000"
      ]
     },
     "execution_count": 21,
     "metadata": {},
     "output_type": "execute_result"
    }
   ],
   "source": [
    "linear_reg_summary['p-value'] = p_value.round(3)\n",
    "linear_reg_summary"
   ]
  },
  {
   "cell_type": "markdown",
   "metadata": {},
   "source": [
    "#### Prediction"
   ]
  },
  {
   "cell_type": "code",
   "execution_count": 22,
   "metadata": {},
   "outputs": [
    {
     "data": {
      "text/html": [
       "<div>\n",
       "<style scoped>\n",
       "    .dataframe tbody tr th:only-of-type {\n",
       "        vertical-align: middle;\n",
       "    }\n",
       "\n",
       "    .dataframe tbody tr th {\n",
       "        vertical-align: top;\n",
       "    }\n",
       "\n",
       "    .dataframe thead th {\n",
       "        text-align: right;\n",
       "    }\n",
       "</style>\n",
       "<table border=\"1\" class=\"dataframe\">\n",
       "  <thead>\n",
       "    <tr style=\"text-align: right;\">\n",
       "      <th></th>\n",
       "      <th>Temperature</th>\n",
       "      <th>Humidity</th>\n",
       "      <th>Wind.Speed..km.h.</th>\n",
       "      <th>Visibility</th>\n",
       "      <th>Pressure</th>\n",
       "      <th>so2</th>\n",
       "      <th>no2</th>\n",
       "      <th>PM10</th>\n",
       "      <th>PM25</th>\n",
       "      <th>Predicted_AQI</th>\n",
       "      <th>Original_AQI</th>\n",
       "    </tr>\n",
       "  </thead>\n",
       "  <tbody>\n",
       "    <tr>\n",
       "      <th>6213</th>\n",
       "      <td>0.017727</td>\n",
       "      <td>1.309815</td>\n",
       "      <td>0.554879</td>\n",
       "      <td>1.558790</td>\n",
       "      <td>0.133046</td>\n",
       "      <td>-0.123471</td>\n",
       "      <td>0.039591</td>\n",
       "      <td>-0.234271</td>\n",
       "      <td>-0.178459</td>\n",
       "      <td>78.507590</td>\n",
       "      <td>80</td>\n",
       "    </tr>\n",
       "    <tr>\n",
       "      <th>7168</th>\n",
       "      <td>-0.932841</td>\n",
       "      <td>0.820826</td>\n",
       "      <td>1.734667</td>\n",
       "      <td>0.086796</td>\n",
       "      <td>0.207987</td>\n",
       "      <td>-0.485819</td>\n",
       "      <td>-0.049133</td>\n",
       "      <td>0.596350</td>\n",
       "      <td>0.843286</td>\n",
       "      <td>114.725891</td>\n",
       "      <td>140</td>\n",
       "    </tr>\n",
       "    <tr>\n",
       "      <th>2699</th>\n",
       "      <td>-0.467960</td>\n",
       "      <td>1.092487</td>\n",
       "      <td>1.935327</td>\n",
       "      <td>0.106796</td>\n",
       "      <td>0.108243</td>\n",
       "      <td>-0.281014</td>\n",
       "      <td>0.010016</td>\n",
       "      <td>-0.319028</td>\n",
       "      <td>-0.785874</td>\n",
       "      <td>50.466597</td>\n",
       "      <td>45</td>\n",
       "    </tr>\n",
       "    <tr>\n",
       "      <th>3533</th>\n",
       "      <td>-1.285366</td>\n",
       "      <td>0.820826</td>\n",
       "      <td>-1.466232</td>\n",
       "      <td>-1.693196</td>\n",
       "      <td>0.166140</td>\n",
       "      <td>-0.627608</td>\n",
       "      <td>-0.574081</td>\n",
       "      <td>-0.268174</td>\n",
       "      <td>-0.524404</td>\n",
       "      <td>60.183245</td>\n",
       "      <td>62</td>\n",
       "    </tr>\n",
       "    <tr>\n",
       "      <th>1560</th>\n",
       "      <td>0.417216</td>\n",
       "      <td>0.331837</td>\n",
       "      <td>0.571803</td>\n",
       "      <td>-1.905195</td>\n",
       "      <td>0.233653</td>\n",
       "      <td>0.475193</td>\n",
       "      <td>0.283581</td>\n",
       "      <td>-0.081708</td>\n",
       "      <td>-0.190527</td>\n",
       "      <td>76.829196</td>\n",
       "      <td>79</td>\n",
       "    </tr>\n",
       "    <tr>\n",
       "      <th>...</th>\n",
       "      <td>...</td>\n",
       "      <td>...</td>\n",
       "      <td>...</td>\n",
       "      <td>...</td>\n",
       "      <td>...</td>\n",
       "      <td>...</td>\n",
       "      <td>...</td>\n",
       "      <td>...</td>\n",
       "      <td>...</td>\n",
       "      <td>...</td>\n",
       "      <td>...</td>\n",
       "    </tr>\n",
       "    <tr>\n",
       "      <th>3655</th>\n",
       "      <td>-0.853181</td>\n",
       "      <td>0.875158</td>\n",
       "      <td>-1.543595</td>\n",
       "      <td>0.062797</td>\n",
       "      <td>0.168859</td>\n",
       "      <td>-0.627608</td>\n",
       "      <td>-1.416956</td>\n",
       "      <td>-0.183417</td>\n",
       "      <td>-0.258911</td>\n",
       "      <td>72.759504</td>\n",
       "      <td>76</td>\n",
       "    </tr>\n",
       "    <tr>\n",
       "      <th>1563</th>\n",
       "      <td>1.142478</td>\n",
       "      <td>-0.754805</td>\n",
       "      <td>0.068942</td>\n",
       "      <td>-2.293193</td>\n",
       "      <td>0.237433</td>\n",
       "      <td>0.475193</td>\n",
       "      <td>0.209644</td>\n",
       "      <td>0.545496</td>\n",
       "      <td>0.795015</td>\n",
       "      <td>117.468703</td>\n",
       "      <td>137</td>\n",
       "    </tr>\n",
       "    <tr>\n",
       "      <th>3374</th>\n",
       "      <td>-1.171227</td>\n",
       "      <td>0.820826</td>\n",
       "      <td>-0.327544</td>\n",
       "      <td>0.062797</td>\n",
       "      <td>0.236505</td>\n",
       "      <td>-0.879677</td>\n",
       "      <td>0.024803</td>\n",
       "      <td>-0.352931</td>\n",
       "      <td>-0.604857</td>\n",
       "      <td>57.410835</td>\n",
       "      <td>58</td>\n",
       "    </tr>\n",
       "    <tr>\n",
       "      <th>3746</th>\n",
       "      <td>-1.957125</td>\n",
       "      <td>-0.048487</td>\n",
       "      <td>0.213998</td>\n",
       "      <td>1.342791</td>\n",
       "      <td>0.147968</td>\n",
       "      <td>-0.312522</td>\n",
       "      <td>0.357517</td>\n",
       "      <td>-0.132562</td>\n",
       "      <td>-0.198572</td>\n",
       "      <td>73.255080</td>\n",
       "      <td>79</td>\n",
       "    </tr>\n",
       "    <tr>\n",
       "      <th>397</th>\n",
       "      <td>0.737639</td>\n",
       "      <td>-1.569786</td>\n",
       "      <td>-0.859415</td>\n",
       "      <td>0.106796</td>\n",
       "      <td>0.157850</td>\n",
       "      <td>4.004155</td>\n",
       "      <td>-0.714561</td>\n",
       "      <td>0.257321</td>\n",
       "      <td>0.690427</td>\n",
       "      <td>118.929403</td>\n",
       "      <td>131</td>\n",
       "    </tr>\n",
       "  </tbody>\n",
       "</table>\n",
       "<p>1458 rows × 11 columns</p>\n",
       "</div>"
      ],
      "text/plain": [
       "      Temperature  Humidity  Wind.Speed..km.h.  Visibility  Pressure  \\\n",
       "6213     0.017727  1.309815           0.554879    1.558790  0.133046   \n",
       "7168    -0.932841  0.820826           1.734667    0.086796  0.207987   \n",
       "2699    -0.467960  1.092487           1.935327    0.106796  0.108243   \n",
       "3533    -1.285366  0.820826          -1.466232   -1.693196  0.166140   \n",
       "1560     0.417216  0.331837           0.571803   -1.905195  0.233653   \n",
       "...           ...       ...                ...         ...       ...   \n",
       "3655    -0.853181  0.875158          -1.543595    0.062797  0.168859   \n",
       "1563     1.142478 -0.754805           0.068942   -2.293193  0.237433   \n",
       "3374    -1.171227  0.820826          -0.327544    0.062797  0.236505   \n",
       "3746    -1.957125 -0.048487           0.213998    1.342791  0.147968   \n",
       "397      0.737639 -1.569786          -0.859415    0.106796  0.157850   \n",
       "\n",
       "           so2       no2      PM10      PM25  Predicted_AQI  Original_AQI  \n",
       "6213 -0.123471  0.039591 -0.234271 -0.178459      78.507590            80  \n",
       "7168 -0.485819 -0.049133  0.596350  0.843286     114.725891           140  \n",
       "2699 -0.281014  0.010016 -0.319028 -0.785874      50.466597            45  \n",
       "3533 -0.627608 -0.574081 -0.268174 -0.524404      60.183245            62  \n",
       "1560  0.475193  0.283581 -0.081708 -0.190527      76.829196            79  \n",
       "...        ...       ...       ...       ...            ...           ...  \n",
       "3655 -0.627608 -1.416956 -0.183417 -0.258911      72.759504            76  \n",
       "1563  0.475193  0.209644  0.545496  0.795015     117.468703           137  \n",
       "3374 -0.879677  0.024803 -0.352931 -0.604857      57.410835            58  \n",
       "3746 -0.312522  0.357517 -0.132562 -0.198572      73.255080            79  \n",
       "397   4.004155 -0.714561  0.257321  0.690427     118.929403           131  \n",
       "\n",
       "[1458 rows x 11 columns]"
      ]
     },
     "execution_count": 22,
     "metadata": {},
     "output_type": "execute_result"
    }
   ],
   "source": [
    "linear_prediction = x_test.copy()\n",
    "linear_prediction[\"Predicted_AQI\"] = linear_reg_pred\n",
    "linear_prediction[\"Original_AQI\"] = y_test\n",
    "linear_prediction\n"
   ]
  },
  {
   "cell_type": "markdown",
   "metadata": {},
   "source": [
    "#### 2.K-Nearest Neighbours"
   ]
  },
  {
   "cell_type": "code",
   "execution_count": 23,
   "metadata": {},
   "outputs": [
    {
     "data": {
      "text/plain": [
       "KNeighborsRegressor(n_neighbors=3)"
      ]
     },
     "execution_count": 23,
     "metadata": {},
     "output_type": "execute_result"
    }
   ],
   "source": [
    "knn_reg = KNeighborsRegressor(n_neighbors=3)\n",
    "knn_reg.fit(x_train,y_train)"
   ]
  },
  {
   "cell_type": "code",
   "execution_count": 24,
   "metadata": {},
   "outputs": [
    {
     "data": {
      "text/plain": [
       "array([ 79.        , 138.66666667,  53.        , ...,  57.66666667,\n",
       "        65.        , 154.66666667])"
      ]
     },
     "execution_count": 24,
     "metadata": {},
     "output_type": "execute_result"
    }
   ],
   "source": [
    "knn_pred = knn_reg.predict(x_test)\n",
    "knn_pred"
   ]
  },
  {
   "cell_type": "markdown",
   "metadata": {},
   "source": [
    "#### Error and accuracy"
   ]
  },
  {
   "cell_type": "code",
   "execution_count": 25,
   "metadata": {},
   "outputs": [
    {
     "name": "stdout",
     "output_type": "stream",
     "text": [
      "Accuracy Score on training data:  0.9741357725358166\n",
      "Accuracy Score on testing data:  0.9455509700292093\n",
      "Mean squared error: 98.97523243408016\n",
      "Mean absolute error: 7.0038866026520346\n",
      "r2 score: 0.9455509700292093\n"
     ]
    }
   ],
   "source": [
    "print(\"Accuracy Score on training data: \",knn_reg.score(x_train,y_train))\n",
    "print(\"Accuracy Score on testing data: \",knn_reg.score(x_test,y_test))\n",
    "print(f\"Mean squared error: {mean_squared_error(y_test,knn_pred)}\\nMean absolute error: {mean_absolute_error(y_test,knn_pred)}\\nr2 score: {r2_score(y_test,knn_pred)}\")"
   ]
  },
  {
   "cell_type": "markdown",
   "metadata": {},
   "source": [
    "#### Prediction"
   ]
  },
  {
   "cell_type": "code",
   "execution_count": 26,
   "metadata": {},
   "outputs": [
    {
     "data": {
      "text/html": [
       "<div>\n",
       "<style scoped>\n",
       "    .dataframe tbody tr th:only-of-type {\n",
       "        vertical-align: middle;\n",
       "    }\n",
       "\n",
       "    .dataframe tbody tr th {\n",
       "        vertical-align: top;\n",
       "    }\n",
       "\n",
       "    .dataframe thead th {\n",
       "        text-align: right;\n",
       "    }\n",
       "</style>\n",
       "<table border=\"1\" class=\"dataframe\">\n",
       "  <thead>\n",
       "    <tr style=\"text-align: right;\">\n",
       "      <th></th>\n",
       "      <th>Temperature</th>\n",
       "      <th>Humidity</th>\n",
       "      <th>Wind.Speed..km.h.</th>\n",
       "      <th>Visibility</th>\n",
       "      <th>Pressure</th>\n",
       "      <th>so2</th>\n",
       "      <th>no2</th>\n",
       "      <th>PM10</th>\n",
       "      <th>PM25</th>\n",
       "      <th>Predicted_AQI</th>\n",
       "      <th>Original_AQI</th>\n",
       "    </tr>\n",
       "  </thead>\n",
       "  <tbody>\n",
       "    <tr>\n",
       "      <th>6213</th>\n",
       "      <td>0.017727</td>\n",
       "      <td>1.309815</td>\n",
       "      <td>0.554879</td>\n",
       "      <td>1.558790</td>\n",
       "      <td>0.133046</td>\n",
       "      <td>-0.123471</td>\n",
       "      <td>0.039591</td>\n",
       "      <td>-0.234271</td>\n",
       "      <td>-0.178459</td>\n",
       "      <td>79.000000</td>\n",
       "      <td>80</td>\n",
       "    </tr>\n",
       "    <tr>\n",
       "      <th>7168</th>\n",
       "      <td>-0.932841</td>\n",
       "      <td>0.820826</td>\n",
       "      <td>1.734667</td>\n",
       "      <td>0.086796</td>\n",
       "      <td>0.207987</td>\n",
       "      <td>-0.485819</td>\n",
       "      <td>-0.049133</td>\n",
       "      <td>0.596350</td>\n",
       "      <td>0.843286</td>\n",
       "      <td>138.666667</td>\n",
       "      <td>140</td>\n",
       "    </tr>\n",
       "    <tr>\n",
       "      <th>2699</th>\n",
       "      <td>-0.467960</td>\n",
       "      <td>1.092487</td>\n",
       "      <td>1.935327</td>\n",
       "      <td>0.106796</td>\n",
       "      <td>0.108243</td>\n",
       "      <td>-0.281014</td>\n",
       "      <td>0.010016</td>\n",
       "      <td>-0.319028</td>\n",
       "      <td>-0.785874</td>\n",
       "      <td>53.000000</td>\n",
       "      <td>45</td>\n",
       "    </tr>\n",
       "    <tr>\n",
       "      <th>3533</th>\n",
       "      <td>-1.285366</td>\n",
       "      <td>0.820826</td>\n",
       "      <td>-1.466232</td>\n",
       "      <td>-1.693196</td>\n",
       "      <td>0.166140</td>\n",
       "      <td>-0.627608</td>\n",
       "      <td>-0.574081</td>\n",
       "      <td>-0.268174</td>\n",
       "      <td>-0.524404</td>\n",
       "      <td>60.666667</td>\n",
       "      <td>62</td>\n",
       "    </tr>\n",
       "    <tr>\n",
       "      <th>1560</th>\n",
       "      <td>0.417216</td>\n",
       "      <td>0.331837</td>\n",
       "      <td>0.571803</td>\n",
       "      <td>-1.905195</td>\n",
       "      <td>0.233653</td>\n",
       "      <td>0.475193</td>\n",
       "      <td>0.283581</td>\n",
       "      <td>-0.081708</td>\n",
       "      <td>-0.190527</td>\n",
       "      <td>77.000000</td>\n",
       "      <td>79</td>\n",
       "    </tr>\n",
       "    <tr>\n",
       "      <th>...</th>\n",
       "      <td>...</td>\n",
       "      <td>...</td>\n",
       "      <td>...</td>\n",
       "      <td>...</td>\n",
       "      <td>...</td>\n",
       "      <td>...</td>\n",
       "      <td>...</td>\n",
       "      <td>...</td>\n",
       "      <td>...</td>\n",
       "      <td>...</td>\n",
       "      <td>...</td>\n",
       "    </tr>\n",
       "    <tr>\n",
       "      <th>3655</th>\n",
       "      <td>-0.853181</td>\n",
       "      <td>0.875158</td>\n",
       "      <td>-1.543595</td>\n",
       "      <td>0.062797</td>\n",
       "      <td>0.168859</td>\n",
       "      <td>-0.627608</td>\n",
       "      <td>-1.416956</td>\n",
       "      <td>-0.183417</td>\n",
       "      <td>-0.258911</td>\n",
       "      <td>74.666667</td>\n",
       "      <td>76</td>\n",
       "    </tr>\n",
       "    <tr>\n",
       "      <th>1563</th>\n",
       "      <td>1.142478</td>\n",
       "      <td>-0.754805</td>\n",
       "      <td>0.068942</td>\n",
       "      <td>-2.293193</td>\n",
       "      <td>0.237433</td>\n",
       "      <td>0.475193</td>\n",
       "      <td>0.209644</td>\n",
       "      <td>0.545496</td>\n",
       "      <td>0.795015</td>\n",
       "      <td>131.333333</td>\n",
       "      <td>137</td>\n",
       "    </tr>\n",
       "    <tr>\n",
       "      <th>3374</th>\n",
       "      <td>-1.171227</td>\n",
       "      <td>0.820826</td>\n",
       "      <td>-0.327544</td>\n",
       "      <td>0.062797</td>\n",
       "      <td>0.236505</td>\n",
       "      <td>-0.879677</td>\n",
       "      <td>0.024803</td>\n",
       "      <td>-0.352931</td>\n",
       "      <td>-0.604857</td>\n",
       "      <td>57.666667</td>\n",
       "      <td>58</td>\n",
       "    </tr>\n",
       "    <tr>\n",
       "      <th>3746</th>\n",
       "      <td>-1.957125</td>\n",
       "      <td>-0.048487</td>\n",
       "      <td>0.213998</td>\n",
       "      <td>1.342791</td>\n",
       "      <td>0.147968</td>\n",
       "      <td>-0.312522</td>\n",
       "      <td>0.357517</td>\n",
       "      <td>-0.132562</td>\n",
       "      <td>-0.198572</td>\n",
       "      <td>65.000000</td>\n",
       "      <td>79</td>\n",
       "    </tr>\n",
       "    <tr>\n",
       "      <th>397</th>\n",
       "      <td>0.737639</td>\n",
       "      <td>-1.569786</td>\n",
       "      <td>-0.859415</td>\n",
       "      <td>0.106796</td>\n",
       "      <td>0.157850</td>\n",
       "      <td>4.004155</td>\n",
       "      <td>-0.714561</td>\n",
       "      <td>0.257321</td>\n",
       "      <td>0.690427</td>\n",
       "      <td>154.666667</td>\n",
       "      <td>131</td>\n",
       "    </tr>\n",
       "  </tbody>\n",
       "</table>\n",
       "<p>1458 rows × 11 columns</p>\n",
       "</div>"
      ],
      "text/plain": [
       "      Temperature  Humidity  Wind.Speed..km.h.  Visibility  Pressure  \\\n",
       "6213     0.017727  1.309815           0.554879    1.558790  0.133046   \n",
       "7168    -0.932841  0.820826           1.734667    0.086796  0.207987   \n",
       "2699    -0.467960  1.092487           1.935327    0.106796  0.108243   \n",
       "3533    -1.285366  0.820826          -1.466232   -1.693196  0.166140   \n",
       "1560     0.417216  0.331837           0.571803   -1.905195  0.233653   \n",
       "...           ...       ...                ...         ...       ...   \n",
       "3655    -0.853181  0.875158          -1.543595    0.062797  0.168859   \n",
       "1563     1.142478 -0.754805           0.068942   -2.293193  0.237433   \n",
       "3374    -1.171227  0.820826          -0.327544    0.062797  0.236505   \n",
       "3746    -1.957125 -0.048487           0.213998    1.342791  0.147968   \n",
       "397      0.737639 -1.569786          -0.859415    0.106796  0.157850   \n",
       "\n",
       "           so2       no2      PM10      PM25  Predicted_AQI  Original_AQI  \n",
       "6213 -0.123471  0.039591 -0.234271 -0.178459      79.000000            80  \n",
       "7168 -0.485819 -0.049133  0.596350  0.843286     138.666667           140  \n",
       "2699 -0.281014  0.010016 -0.319028 -0.785874      53.000000            45  \n",
       "3533 -0.627608 -0.574081 -0.268174 -0.524404      60.666667            62  \n",
       "1560  0.475193  0.283581 -0.081708 -0.190527      77.000000            79  \n",
       "...        ...       ...       ...       ...            ...           ...  \n",
       "3655 -0.627608 -1.416956 -0.183417 -0.258911      74.666667            76  \n",
       "1563  0.475193  0.209644  0.545496  0.795015     131.333333           137  \n",
       "3374 -0.879677  0.024803 -0.352931 -0.604857      57.666667            58  \n",
       "3746 -0.312522  0.357517 -0.132562 -0.198572      65.000000            79  \n",
       "397   4.004155 -0.714561  0.257321  0.690427     154.666667           131  \n",
       "\n",
       "[1458 rows x 11 columns]"
      ]
     },
     "execution_count": 26,
     "metadata": {},
     "output_type": "execute_result"
    }
   ],
   "source": [
    "knn_prediction = x_test.copy()\n",
    "knn_prediction[\"Predicted_AQI\"] = knn_pred\n",
    "knn_prediction[\"Original_AQI\"] = y_test\n",
    "knn_prediction"
   ]
  },
  {
   "cell_type": "code",
   "execution_count": 27,
   "metadata": {},
   "outputs": [
    {
     "data": {
      "text/plain": [
       "<matplotlib.axes._subplots.AxesSubplot at 0x2967de7f2c8>"
      ]
     },
     "execution_count": 27,
     "metadata": {},
     "output_type": "execute_result"
    },
    {
     "data": {
      "image/png": "[encoded data removed]",
      "text/plain": [
       "<Figure size 432x288 with 1 Axes>"
      ]
     },
     "metadata": {},
     "output_type": "display_data"
    }
   ],
   "source": [
    "sns.distplot(y_test-knn_pred)"
   ]
  },
  {
   "cell_type": "markdown",
   "metadata": {},
   "source": [
    "#### 3.Decision Tree "
   ]
  },
  {
   "cell_type": "code",
   "execution_count": 28,
   "metadata": {},
   "outputs": [
    {
     "data": {
      "text/plain": [
       "DecisionTreeRegressor(random_state=3)"
      ]
     },
     "execution_count": 28,
     "metadata": {},
     "output_type": "execute_result"
    }
   ],
   "source": [
    "decision_reg = tree.DecisionTreeRegressor(random_state=3)\n",
    "decision_reg.fit(x_train,y_train)"
   ]
  },
  {
   "cell_type": "code",
   "execution_count": 29,
   "metadata": {},
   "outputs": [],
   "source": [
    "decision_pred = decision_reg.predict(x_test)\n",
    "decision_prediction = x_test.copy()"
   ]
  },
  {
   "cell_type": "markdown",
   "metadata": {},
   "source": [
    "#### Error and accuracy"
   ]
  },
  {
   "cell_type": "code",
   "execution_count": 30,
   "metadata": {},
   "outputs": [
    {
     "name": "stdout",
     "output_type": "stream",
     "text": [
      "Accuracy Score on training data:  1.0\n",
      "Accuracy Score on testing data:  0.9986725996498679\n",
      "Mean squared error: 2.4128943758573387\n",
      "Mean absolute error: 0.2139917695473251\n",
      "r2 score: 0.9986725996498679\n"
     ]
    }
   ],
   "source": [
    "print(\"Accuracy Score on training data: \",decision_reg.score(x_train,y_train))\n",
    "print(\"Accuracy Score on testing data: \",decision_reg.score(x_test,y_test))\n",
    "print(f\"Mean squared error: {mean_squared_error(y_test,decision_pred)}\\nMean absolute error: {mean_absolute_error(y_test,decision_pred)}\\nr2 score: {r2_score(y_test,decision_pred)}\")"
   ]
  },
  {
   "cell_type": "markdown",
   "metadata": {},
   "source": [
    "#### Prediction"
   ]
  },
  {
   "cell_type": "code",
   "execution_count": 31,
   "metadata": {},
   "outputs": [
    {
     "data": {
      "text/html": [
       "<div>\n",
       "<style scoped>\n",
       "    .dataframe tbody tr th:only-of-type {\n",
       "        vertical-align: middle;\n",
       "    }\n",
       "\n",
       "    .dataframe tbody tr th {\n",
       "        vertical-align: top;\n",
       "    }\n",
       "\n",
       "    .dataframe thead th {\n",
       "        text-align: right;\n",
       "    }\n",
       "</style>\n",
       "<table border=\"1\" class=\"dataframe\">\n",
       "  <thead>\n",
       "    <tr style=\"text-align: right;\">\n",
       "      <th></th>\n",
       "      <th>Temperature</th>\n",
       "      <th>Humidity</th>\n",
       "      <th>Wind.Speed..km.h.</th>\n",
       "      <th>Visibility</th>\n",
       "      <th>Pressure</th>\n",
       "      <th>so2</th>\n",
       "      <th>no2</th>\n",
       "      <th>PM10</th>\n",
       "      <th>PM25</th>\n",
       "      <th>Predicted_AQI</th>\n",
       "      <th>Original_AQI</th>\n",
       "    </tr>\n",
       "  </thead>\n",
       "  <tbody>\n",
       "    <tr>\n",
       "      <th>6213</th>\n",
       "      <td>0.017727</td>\n",
       "      <td>1.309815</td>\n",
       "      <td>0.554879</td>\n",
       "      <td>1.558790</td>\n",
       "      <td>0.133046</td>\n",
       "      <td>-0.123471</td>\n",
       "      <td>0.039591</td>\n",
       "      <td>-0.234271</td>\n",
       "      <td>-0.178459</td>\n",
       "      <td>80.0</td>\n",
       "      <td>80</td>\n",
       "    </tr>\n",
       "    <tr>\n",
       "      <th>7168</th>\n",
       "      <td>-0.932841</td>\n",
       "      <td>0.820826</td>\n",
       "      <td>1.734667</td>\n",
       "      <td>0.086796</td>\n",
       "      <td>0.207987</td>\n",
       "      <td>-0.485819</td>\n",
       "      <td>-0.049133</td>\n",
       "      <td>0.596350</td>\n",
       "      <td>0.843286</td>\n",
       "      <td>140.0</td>\n",
       "      <td>140</td>\n",
       "    </tr>\n",
       "    <tr>\n",
       "      <th>2699</th>\n",
       "      <td>-0.467960</td>\n",
       "      <td>1.092487</td>\n",
       "      <td>1.935327</td>\n",
       "      <td>0.106796</td>\n",
       "      <td>0.108243</td>\n",
       "      <td>-0.281014</td>\n",
       "      <td>0.010016</td>\n",
       "      <td>-0.319028</td>\n",
       "      <td>-0.785874</td>\n",
       "      <td>45.0</td>\n",
       "      <td>45</td>\n",
       "    </tr>\n",
       "    <tr>\n",
       "      <th>3533</th>\n",
       "      <td>-1.285366</td>\n",
       "      <td>0.820826</td>\n",
       "      <td>-1.466232</td>\n",
       "      <td>-1.693196</td>\n",
       "      <td>0.166140</td>\n",
       "      <td>-0.627608</td>\n",
       "      <td>-0.574081</td>\n",
       "      <td>-0.268174</td>\n",
       "      <td>-0.524404</td>\n",
       "      <td>62.0</td>\n",
       "      <td>62</td>\n",
       "    </tr>\n",
       "    <tr>\n",
       "      <th>1560</th>\n",
       "      <td>0.417216</td>\n",
       "      <td>0.331837</td>\n",
       "      <td>0.571803</td>\n",
       "      <td>-1.905195</td>\n",
       "      <td>0.233653</td>\n",
       "      <td>0.475193</td>\n",
       "      <td>0.283581</td>\n",
       "      <td>-0.081708</td>\n",
       "      <td>-0.190527</td>\n",
       "      <td>79.0</td>\n",
       "      <td>79</td>\n",
       "    </tr>\n",
       "    <tr>\n",
       "      <th>...</th>\n",
       "      <td>...</td>\n",
       "      <td>...</td>\n",
       "      <td>...</td>\n",
       "      <td>...</td>\n",
       "      <td>...</td>\n",
       "      <td>...</td>\n",
       "      <td>...</td>\n",
       "      <td>...</td>\n",
       "      <td>...</td>\n",
       "      <td>...</td>\n",
       "      <td>...</td>\n",
       "    </tr>\n",
       "    <tr>\n",
       "      <th>3655</th>\n",
       "      <td>-0.853181</td>\n",
       "      <td>0.875158</td>\n",
       "      <td>-1.543595</td>\n",
       "      <td>0.062797</td>\n",
       "      <td>0.168859</td>\n",
       "      <td>-0.627608</td>\n",
       "      <td>-1.416956</td>\n",
       "      <td>-0.183417</td>\n",
       "      <td>-0.258911</td>\n",
       "      <td>76.0</td>\n",
       "      <td>76</td>\n",
       "    </tr>\n",
       "    <tr>\n",
       "      <th>1563</th>\n",
       "      <td>1.142478</td>\n",
       "      <td>-0.754805</td>\n",
       "      <td>0.068942</td>\n",
       "      <td>-2.293193</td>\n",
       "      <td>0.237433</td>\n",
       "      <td>0.475193</td>\n",
       "      <td>0.209644</td>\n",
       "      <td>0.545496</td>\n",
       "      <td>0.795015</td>\n",
       "      <td>138.0</td>\n",
       "      <td>137</td>\n",
       "    </tr>\n",
       "    <tr>\n",
       "      <th>3374</th>\n",
       "      <td>-1.171227</td>\n",
       "      <td>0.820826</td>\n",
       "      <td>-0.327544</td>\n",
       "      <td>0.062797</td>\n",
       "      <td>0.236505</td>\n",
       "      <td>-0.879677</td>\n",
       "      <td>0.024803</td>\n",
       "      <td>-0.352931</td>\n",
       "      <td>-0.604857</td>\n",
       "      <td>58.0</td>\n",
       "      <td>58</td>\n",
       "    </tr>\n",
       "    <tr>\n",
       "      <th>3746</th>\n",
       "      <td>-1.957125</td>\n",
       "      <td>-0.048487</td>\n",
       "      <td>0.213998</td>\n",
       "      <td>1.342791</td>\n",
       "      <td>0.147968</td>\n",
       "      <td>-0.312522</td>\n",
       "      <td>0.357517</td>\n",
       "      <td>-0.132562</td>\n",
       "      <td>-0.198572</td>\n",
       "      <td>79.0</td>\n",
       "      <td>79</td>\n",
       "    </tr>\n",
       "    <tr>\n",
       "      <th>397</th>\n",
       "      <td>0.737639</td>\n",
       "      <td>-1.569786</td>\n",
       "      <td>-0.859415</td>\n",
       "      <td>0.106796</td>\n",
       "      <td>0.157850</td>\n",
       "      <td>4.004155</td>\n",
       "      <td>-0.714561</td>\n",
       "      <td>0.257321</td>\n",
       "      <td>0.690427</td>\n",
       "      <td>131.0</td>\n",
       "      <td>131</td>\n",
       "    </tr>\n",
       "  </tbody>\n",
       "</table>\n",
       "<p>1458 rows × 11 columns</p>\n",
       "</div>"
      ],
      "text/plain": [
       "      Temperature  Humidity  Wind.Speed..km.h.  Visibility  Pressure  \\\n",
       "6213     0.017727  1.309815           0.554879    1.558790  0.133046   \n",
       "7168    -0.932841  0.820826           1.734667    0.086796  0.207987   \n",
       "2699    -0.467960  1.092487           1.935327    0.106796  0.108243   \n",
       "3533    -1.285366  0.820826          -1.466232   -1.693196  0.166140   \n",
       "1560     0.417216  0.331837           0.571803   -1.905195  0.233653   \n",
       "...           ...       ...                ...         ...       ...   \n",
       "3655    -0.853181  0.875158          -1.543595    0.062797  0.168859   \n",
       "1563     1.142478 -0.754805           0.068942   -2.293193  0.237433   \n",
       "3374    -1.171227  0.820826          -0.327544    0.062797  0.236505   \n",
       "3746    -1.957125 -0.048487           0.213998    1.342791  0.147968   \n",
       "397      0.737639 -1.569786          -0.859415    0.106796  0.157850   \n",
       "\n",
       "           so2       no2      PM10      PM25  Predicted_AQI  Original_AQI  \n",
       "6213 -0.123471  0.039591 -0.234271 -0.178459           80.0            80  \n",
       "7168 -0.485819 -0.049133  0.596350  0.843286          140.0           140  \n",
       "2699 -0.281014  0.010016 -0.319028 -0.785874           45.0            45  \n",
       "3533 -0.627608 -0.574081 -0.268174 -0.524404           62.0            62  \n",
       "1560  0.475193  0.283581 -0.081708 -0.190527           79.0            79  \n",
       "...        ...       ...       ...       ...            ...           ...  \n",
       "3655 -0.627608 -1.416956 -0.183417 -0.258911           76.0            76  \n",
       "1563  0.475193  0.209644  0.545496  0.795015          138.0           137  \n",
       "3374 -0.879677  0.024803 -0.352931 -0.604857           58.0            58  \n",
       "3746 -0.312522  0.357517 -0.132562 -0.198572           79.0            79  \n",
       "397   4.004155 -0.714561  0.257321  0.690427          131.0           131  \n",
       "\n",
       "[1458 rows x 11 columns]"
      ]
     },
     "execution_count": 31,
     "metadata": {},
     "output_type": "execute_result"
    }
   ],
   "source": [
    "decision_prediction[\"Predicted_AQI\"] = decision_pred\n",
    "decision_prediction[\"Original_AQI\"] = y_test\n",
    "decision_prediction"
   ]
  },
  {
   "cell_type": "code",
   "execution_count": 32,
   "metadata": {},
   "outputs": [
    {
     "data": {
      "text/plain": [
       "<matplotlib.axes._subplots.AxesSubplot at 0x2967df36f88>"
      ]
     },
     "execution_count": 32,
     "metadata": {},
     "output_type": "execute_result"
    },
    {
     "data": {
      "image/png": "[encoded data removed]",
      "text/plain": [
       "<Figure size 432x288 with 1 Axes>"
      ]
     },
     "metadata": {},
     "output_type": "display_data"
    }
   ],
   "source": [
    "sns.distplot(y_test-decision_pred,kde = False)"
   ]
  },
  {
   "cell_type": "markdown",
   "metadata": {},
   "source": [
    "#### 4.Support Vector Machine"
   ]
  },
  {
   "cell_type": "code",
   "execution_count": 33,
   "metadata": {},
   "outputs": [
    {
     "data": {
      "text/plain": [
       "SVR()"
      ]
     },
     "execution_count": 33,
     "metadata": {},
     "output_type": "execute_result"
    }
   ],
   "source": [
    "svr_reg = SVR(kernel = 'rbf')\n",
    "svr_reg.fit(x_train,y_train)"
   ]
  },
  {
   "cell_type": "code",
   "execution_count": 34,
   "metadata": {},
   "outputs": [],
   "source": [
    "svr_pred = svr_reg.predict(x_test)\n",
    "svr_prediction = x_test.copy()"
   ]
  },
  {
   "cell_type": "markdown",
   "metadata": {},
   "source": [
    "#### Error and Accuracy"
   ]
  },
  {
   "cell_type": "code",
   "execution_count": 35,
   "metadata": {},
   "outputs": [
    {
     "name": "stdout",
     "output_type": "stream",
     "text": [
      "Accuracy Score on training data:  0.8952576917949333\n",
      "Accuracy Score on testing data:  0.8776641070784983\n",
      "Mean squared error: 222.3772111905733\n",
      "Mean absolute error: 6.263963694016249\n",
      "r2 score: 0.8776641070784983\n"
     ]
    }
   ],
   "source": [
    "print(\"Accuracy Score on training data: \",svr_reg.score(x_train,y_train))\n",
    "print(\"Accuracy Score on testing data: \",svr_reg.score(x_test,y_test))\n",
    "print(f\"Mean squared error: {mean_squared_error(y_test,svr_pred)}\\nMean absolute error: {mean_absolute_error(y_test,svr_pred)}\\nr2 score: {r2_score(y_test,svr_pred)}\")"
   ]
  },
  {
   "cell_type": "markdown",
   "metadata": {},
   "source": [
    "#### Prediction"
   ]
  },
  {
   "cell_type": "code",
   "execution_count": 36,
   "metadata": {},
   "outputs": [
    {
     "data": {
      "text/html": [
       "<div>\n",
       "<style scoped>\n",
       "    .dataframe tbody tr th:only-of-type {\n",
       "        vertical-align: middle;\n",
       "    }\n",
       "\n",
       "    .dataframe tbody tr th {\n",
       "        vertical-align: top;\n",
       "    }\n",
       "\n",
       "    .dataframe thead th {\n",
       "        text-align: right;\n",
       "    }\n",
       "</style>\n",
       "<table border=\"1\" class=\"dataframe\">\n",
       "  <thead>\n",
       "    <tr style=\"text-align: right;\">\n",
       "      <th></th>\n",
       "      <th>Temperature</th>\n",
       "      <th>Humidity</th>\n",
       "      <th>Wind.Speed..km.h.</th>\n",
       "      <th>Visibility</th>\n",
       "      <th>Pressure</th>\n",
       "      <th>so2</th>\n",
       "      <th>no2</th>\n",
       "      <th>PM10</th>\n",
       "      <th>PM25</th>\n",
       "      <th>Predicted_AQI</th>\n",
       "      <th>Original_AQI</th>\n",
       "    </tr>\n",
       "  </thead>\n",
       "  <tbody>\n",
       "    <tr>\n",
       "      <th>6213</th>\n",
       "      <td>0.017727</td>\n",
       "      <td>1.309815</td>\n",
       "      <td>0.554879</td>\n",
       "      <td>1.558790</td>\n",
       "      <td>0.133046</td>\n",
       "      <td>-0.123471</td>\n",
       "      <td>0.039591</td>\n",
       "      <td>-0.234271</td>\n",
       "      <td>-0.178459</td>\n",
       "      <td>79.377747</td>\n",
       "      <td>80</td>\n",
       "    </tr>\n",
       "    <tr>\n",
       "      <th>7168</th>\n",
       "      <td>-0.932841</td>\n",
       "      <td>0.820826</td>\n",
       "      <td>1.734667</td>\n",
       "      <td>0.086796</td>\n",
       "      <td>0.207987</td>\n",
       "      <td>-0.485819</td>\n",
       "      <td>-0.049133</td>\n",
       "      <td>0.596350</td>\n",
       "      <td>0.843286</td>\n",
       "      <td>134.363393</td>\n",
       "      <td>140</td>\n",
       "    </tr>\n",
       "    <tr>\n",
       "      <th>2699</th>\n",
       "      <td>-0.467960</td>\n",
       "      <td>1.092487</td>\n",
       "      <td>1.935327</td>\n",
       "      <td>0.106796</td>\n",
       "      <td>0.108243</td>\n",
       "      <td>-0.281014</td>\n",
       "      <td>0.010016</td>\n",
       "      <td>-0.319028</td>\n",
       "      <td>-0.785874</td>\n",
       "      <td>48.306937</td>\n",
       "      <td>45</td>\n",
       "    </tr>\n",
       "    <tr>\n",
       "      <th>3533</th>\n",
       "      <td>-1.285366</td>\n",
       "      <td>0.820826</td>\n",
       "      <td>-1.466232</td>\n",
       "      <td>-1.693196</td>\n",
       "      <td>0.166140</td>\n",
       "      <td>-0.627608</td>\n",
       "      <td>-0.574081</td>\n",
       "      <td>-0.268174</td>\n",
       "      <td>-0.524404</td>\n",
       "      <td>63.416492</td>\n",
       "      <td>62</td>\n",
       "    </tr>\n",
       "    <tr>\n",
       "      <th>1560</th>\n",
       "      <td>0.417216</td>\n",
       "      <td>0.331837</td>\n",
       "      <td>0.571803</td>\n",
       "      <td>-1.905195</td>\n",
       "      <td>0.233653</td>\n",
       "      <td>0.475193</td>\n",
       "      <td>0.283581</td>\n",
       "      <td>-0.081708</td>\n",
       "      <td>-0.190527</td>\n",
       "      <td>79.244043</td>\n",
       "      <td>79</td>\n",
       "    </tr>\n",
       "    <tr>\n",
       "      <th>...</th>\n",
       "      <td>...</td>\n",
       "      <td>...</td>\n",
       "      <td>...</td>\n",
       "      <td>...</td>\n",
       "      <td>...</td>\n",
       "      <td>...</td>\n",
       "      <td>...</td>\n",
       "      <td>...</td>\n",
       "      <td>...</td>\n",
       "      <td>...</td>\n",
       "      <td>...</td>\n",
       "    </tr>\n",
       "    <tr>\n",
       "      <th>3655</th>\n",
       "      <td>-0.853181</td>\n",
       "      <td>0.875158</td>\n",
       "      <td>-1.543595</td>\n",
       "      <td>0.062797</td>\n",
       "      <td>0.168859</td>\n",
       "      <td>-0.627608</td>\n",
       "      <td>-1.416956</td>\n",
       "      <td>-0.183417</td>\n",
       "      <td>-0.258911</td>\n",
       "      <td>75.575801</td>\n",
       "      <td>76</td>\n",
       "    </tr>\n",
       "    <tr>\n",
       "      <th>1563</th>\n",
       "      <td>1.142478</td>\n",
       "      <td>-0.754805</td>\n",
       "      <td>0.068942</td>\n",
       "      <td>-2.293193</td>\n",
       "      <td>0.237433</td>\n",
       "      <td>0.475193</td>\n",
       "      <td>0.209644</td>\n",
       "      <td>0.545496</td>\n",
       "      <td>0.795015</td>\n",
       "      <td>127.124666</td>\n",
       "      <td>137</td>\n",
       "    </tr>\n",
       "    <tr>\n",
       "      <th>3374</th>\n",
       "      <td>-1.171227</td>\n",
       "      <td>0.820826</td>\n",
       "      <td>-0.327544</td>\n",
       "      <td>0.062797</td>\n",
       "      <td>0.236505</td>\n",
       "      <td>-0.879677</td>\n",
       "      <td>0.024803</td>\n",
       "      <td>-0.352931</td>\n",
       "      <td>-0.604857</td>\n",
       "      <td>56.220155</td>\n",
       "      <td>58</td>\n",
       "    </tr>\n",
       "    <tr>\n",
       "      <th>3746</th>\n",
       "      <td>-1.957125</td>\n",
       "      <td>-0.048487</td>\n",
       "      <td>0.213998</td>\n",
       "      <td>1.342791</td>\n",
       "      <td>0.147968</td>\n",
       "      <td>-0.312522</td>\n",
       "      <td>0.357517</td>\n",
       "      <td>-0.132562</td>\n",
       "      <td>-0.198572</td>\n",
       "      <td>78.095171</td>\n",
       "      <td>79</td>\n",
       "    </tr>\n",
       "    <tr>\n",
       "      <th>397</th>\n",
       "      <td>0.737639</td>\n",
       "      <td>-1.569786</td>\n",
       "      <td>-0.859415</td>\n",
       "      <td>0.106796</td>\n",
       "      <td>0.157850</td>\n",
       "      <td>4.004155</td>\n",
       "      <td>-0.714561</td>\n",
       "      <td>0.257321</td>\n",
       "      <td>0.690427</td>\n",
       "      <td>119.589817</td>\n",
       "      <td>131</td>\n",
       "    </tr>\n",
       "  </tbody>\n",
       "</table>\n",
       "<p>1458 rows × 11 columns</p>\n",
       "</div>"
      ],
      "text/plain": [
       "      Temperature  Humidity  Wind.Speed..km.h.  Visibility  Pressure  \\\n",
       "6213     0.017727  1.309815           0.554879    1.558790  0.133046   \n",
       "7168    -0.932841  0.820826           1.734667    0.086796  0.207987   \n",
       "2699    -0.467960  1.092487           1.935327    0.106796  0.108243   \n",
       "3533    -1.285366  0.820826          -1.466232   -1.693196  0.166140   \n",
       "1560     0.417216  0.331837           0.571803   -1.905195  0.233653   \n",
       "...           ...       ...                ...         ...       ...   \n",
       "3655    -0.853181  0.875158          -1.543595    0.062797  0.168859   \n",
       "1563     1.142478 -0.754805           0.068942   -2.293193  0.237433   \n",
       "3374    -1.171227  0.820826          -0.327544    0.062797  0.236505   \n",
       "3746    -1.957125 -0.048487           0.213998    1.342791  0.147968   \n",
       "397      0.737639 -1.569786          -0.859415    0.106796  0.157850   \n",
       "\n",
       "           so2       no2      PM10      PM25  Predicted_AQI  Original_AQI  \n",
       "6213 -0.123471  0.039591 -0.234271 -0.178459      79.377747            80  \n",
       "7168 -0.485819 -0.049133  0.596350  0.843286     134.363393           140  \n",
       "2699 -0.281014  0.010016 -0.319028 -0.785874      48.306937            45  \n",
       "3533 -0.627608 -0.574081 -0.268174 -0.524404      63.416492            62  \n",
       "1560  0.475193  0.283581 -0.081708 -0.190527      79.244043            79  \n",
       "...        ...       ...       ...       ...            ...           ...  \n",
       "3655 -0.627608 -1.416956 -0.183417 -0.258911      75.575801            76  \n",
       "1563  0.475193  0.209644  0.545496  0.795015     127.124666           137  \n",
       "3374 -0.879677  0.024803 -0.352931 -0.604857      56.220155            58  \n",
       "3746 -0.312522  0.357517 -0.132562 -0.198572      78.095171            79  \n",
       "397   4.004155 -0.714561  0.257321  0.690427     119.589817           131  \n",
       "\n",
       "[1458 rows x 11 columns]"
      ]
     },
     "execution_count": 36,
     "metadata": {},
     "output_type": "execute_result"
    }
   ],
   "source": [
    "svr_prediction[\"Predicted_AQI\"] = svr_pred\n",
    "svr_prediction[\"Original_AQI\"] = y_test\n",
    "svr_prediction"
   ]
  },
  {
   "cell_type": "markdown",
   "metadata": {},
   "source": [
    "### Accuracy Comparison"
   ]
  },
  {
   "cell_type": "code",
   "execution_count": 37,
   "metadata": {},
   "outputs": [
    {
     "data": {
      "image/png": "[encoded data removed]",
      "text/plain": [
       "<Figure size 504x360 with 1 Axes>"
      ]
     },
     "metadata": {},
     "output_type": "display_data"
    }
   ],
   "source": [
    "accuracies_label = ['linear regression','KNN',\"Decision Tree\",\"SVR\"]\n",
    "accuracies = [0.90,0.93,0.99,0.87]\n",
    "index = np.arange(len(accuracies_label))\n",
    "plt.figure(figsize = (7,5))\n",
    "plt.bar(index,accuracies)\n",
    "plt.xlabel('Algorithms', fontsize=15)\n",
    "plt.ylabel('Accuracy', fontsize=15)\n",
    "plt.xticks(index, accuracies_label, fontsize=12, rotation=30)\n",
    "plt.title('Accuracy comparison')\n",
    "plt.show()"
   ]
  },
  {
   "cell_type": "markdown",
   "metadata": {},
   "source": [
    "### Error Comparison"
   ]
  },
  {
   "cell_type": "code",
   "execution_count": 38,
   "metadata": {},
   "outputs": [
    {
     "data": {
      "image/png": "[encoded data removed]",
      "text/plain": [
       "<Figure size 504x360 with 1 Axes>"
      ]
     },
     "metadata": {},
     "output_type": "display_data"
    }
   ],
   "source": [
    "accuracies_label = ['linear regression','KNN',\"Decision Tree\",\"SVR\"]\n",
    "error = [181.715,110.810,2.037,235.402]\n",
    "index = np.arange(len(accuracies_label))\n",
    "plt.figure(figsize = (7,5))\n",
    "plt.bar(index,error)\n",
    "plt.xlabel('Algorithms', fontsize=15)\n",
    "plt.ylabel('Mean squared error', fontsize=15)\n",
    "plt.xticks(index, accuracies_label, fontsize=12, rotation=30)\n",
    "plt.title('Error comparison')\n",
    "plt.show()"
   ]
  },
  {
   "cell_type": "code",
   "execution_count": 39,
   "metadata": {},
   "outputs": [
    {
     "data": {
      "image/png": "[encoded data removed]",
      "text/plain": [
       "<Figure size 504x360 with 1 Axes>"
      ]
     },
     "metadata": {},
     "output_type": "display_data"
    }
   ],
   "source": [
    "accuracies_label = ['linear regression','KNN',\"Decision Tree\",\"SVR\"]\n",
    "error = [8.098,7.399,0.196,6.585]\n",
    "index = np.arange(len(accuracies_label))\n",
    "plt.figure(figsize = (7,5))\n",
    "plt.bar(index,error)\n",
    "plt.xlabel('Algorithms', fontsize=15)\n",
    "plt.ylabel('Mean absolute error', fontsize=15)\n",
    "plt.xticks(index, accuracies_label, fontsize=12, rotation=30)\n",
    "plt.title('Error comparison')\n",
    "plt.show()"
   ]
  },
  {
   "cell_type": "code",
   "execution_count": 93,
   "metadata": {},
   "outputs": [],
   "source": [
    "import pickle\n",
    "knn_classifier = open('knn_classifier.pkl','wb')\n",
    "pickle.dump(knn_reg,knn_classifier)\n",
    "knn_classifier.close()"
   ]
  },
  {
   "cell_type": "code",
   "execution_count": 88,
   "metadata": {},
   "outputs": [],
   "source": [
    "import requests\n",
    "from geopy.geocoders import Nominatim\n",
    "api_key = '4b4a8d27e05baec16f1635dcce75a385'\n",
    "address='Noida'\n",
    "geolocator = Nominatim(user_agent=\"Your_Name\")\n",
    "location = geolocator.geocode(address)\n",
    "url1 = f'https://api.openweathermap.org/data/2.5/onecall?lat={location.latitude}&lon={location.longitude}&exclude=daily,minutely,hourly,alerts&appid={api_key}'\n",
    "url = f'http://api.openweathermap.org/data/2.5/air_pollution?lat={location.latitude}&lon={location.longitude}&appid={api_key}'\n",
    "response1 = requests.get(url1)\n",
    "response2 = requests.get(url)\n",
    "r1 = response1.json()\n",
    "r2 = response2.json()"
   ]
  },
  {
   "cell_type": "code",
   "execution_count": 89,
   "metadata": {},
   "outputs": [],
   "source": [
    "x1 = [[r1['current']['temp'],r1['current']['humidity'],r1['current']['wind_speed'],r1['current']['pressure'],r1['current']['visibility'],r2['list'][0]['components']['so2'],r2['list'][0]['components']['no2'],r2['list'][0]['components']['pm10'],r2['list'][0]['components']['pm2_5']]]"
   ]
  },
  {
   "cell_type": "code",
   "execution_count": 90,
   "metadata": {},
   "outputs": [
    {
     "data": {
      "text/plain": [
       "[[308.15, 24, 3.6, 1004, 4000, 82.97, 51.41, 167.24, 123.8]]"
      ]
     },
     "execution_count": 90,
     "metadata": {},
     "output_type": "execute_result"
    }
   ],
   "source": [
    "x1"
   ]
  },
  {
   "cell_type": "code",
   "execution_count": 91,
   "metadata": {},
   "outputs": [
    {
     "name": "stdout",
     "output_type": "stream",
     "text": [
      "{'lat': 28.5708, 'lon': 77.3271, 'timezone': 'Asia/Kolkata', 'timezone_offset': 19800, 'current': {'dt': 1620223738, 'sunrise': 1620173209, 'sunset': 1620221273, 'temp': 308.15, 'feels_like': 306.74, 'pressure': 1004, 'humidity': 24, 'dew_point': 284.58, 'uvi': 0, 'clouds': 40, 'visibility': 4000, 'wind_speed': 3.6, 'wind_deg': 60, 'weather': [{'id': 721, 'main': 'Haze', 'description': 'haze', 'icon': '50n'}]}}\n",
      "{'coord': {'lon': 77.3271, 'lat': 28.5708}, 'list': [{'main': {'aqi': 5}, 'components': {'co': 1495.36, 'no': 0, 'no2': 51.41, 'o3': 143.05, 'so2': 82.97, 'pm2_5': 123.8, 'pm10': 167.24, 'nh3': 25.59}, 'dt': 1620223200}]}\n"
     ]
    }
   ],
   "source": [
    "print(r1)\n",
    "print(r2)"
   ]
  },
  {
   "cell_type": "code",
   "execution_count": 92,
   "metadata": {
    "scrolled": true
   },
   "outputs": [
    {
     "name": "stdout",
     "output_type": "stream",
     "text": [
      "216\n",
      "291\n"
     ]
    }
   ],
   "source": [
    "result = knn_reg.predict(x1)\n",
    "result2 = decision_reg.predict(x1)\n",
    "print(int(result))\n",
    "print(int(result2))"
   ]
  },
  {
   "cell_type": "code",
   "execution_count": 83,
   "metadata": {},
   "outputs": [
    {
     "data": {
      "text/plain": [
       "array([5046.32498005])"
      ]
     },
     "execution_count": 83,
     "metadata": {},
     "output_type": "execute_result"
    }
   ],
   "source": [
    "linear_reg.predict(x1)"
   ]
  },
  {
   "cell_type": "code",
   "execution_count": 84,
   "metadata": {},
   "outputs": [
    {
     "data": {
      "text/plain": [
       "array([95.83404398])"
      ]
     },
     "execution_count": 84,
     "metadata": {},
     "output_type": "execute_result"
    }
   ],
   "source": [
    "svr_reg.predict(x1)"
   ]
  },
  {
   "cell_type": "code",
   "execution_count": 87,
   "metadata": {},
   "outputs": [
    {
     "data": {
      "text/plain": [
       "array([73.34666667])"
      ]
     },
     "execution_count": 87,
     "metadata": {},
     "output_type": "execute_result"
    }
   ],
   "source": [
    "abs(result-x1[0][-2])"
   ]
  },
  {
   "cell_type": "code",
   "execution_count": null,
   "metadata": {},
   "outputs": [],
   "source": []
  }
 ],
 "metadata": {
  "kernelspec": {
   "display_name": "Python 3.7.6 64-bit ('base': conda)",
   "language": "python",
   "name": "python37664bitbasecondafcc71300f538489da02bb0bc976a5020"
  },
  "language_info": {
   "codemirror_mode": {
    "name": "ipython",
    "version": 3
   },
   "file_extension": ".py",
   "mimetype": "text/x-python",
   "name": "python",
   "nbconvert_exporter": "python",
   "pygments_lexer": "ipython3",
   "version": "3.7.6"
  }
 },
 "nbformat": 4,
 "nbformat_minor": 4
}
